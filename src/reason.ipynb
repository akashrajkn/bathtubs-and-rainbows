import os


def qualitative_reasoning():
    pass

if __name__ == '__main__':
    qualitiative_reasoning()
